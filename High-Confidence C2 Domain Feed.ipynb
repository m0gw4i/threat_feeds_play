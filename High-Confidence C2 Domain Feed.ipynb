{
 "cells": [
  {
   "cell_type": "code",
   "execution_count": 81,
   "metadata": {
    "collapsed": true
   },
   "outputs": [],
   "source": [
    "import requests\n",
    "import pandas as pd\n",
    "from IPython.display import display, HTML\n",
    "import sys\n",
    "from StringIO import StringIO\n",
    "import time\n",
    "import matplotlib.pyplot as plt\n",
    "import matplotlib\n",
    "matplotlib.style.use('ggplot')\n",
    "%matplotlib inline "
   ]
  },
  {
   "cell_type": "markdown",
   "metadata": {},
   "source": [
    "## Grab High Confidence C2 Domain Feed"
   ]
  },
  {
   "cell_type": "code",
   "execution_count": 2,
   "metadata": {
    "collapsed": true
   },
   "outputs": [],
   "source": [
    "r = requests.get('http://osint.bambenekconsulting.com/feeds/c2-dommasterlist-high.txt')"
   ]
  },
  {
   "cell_type": "code",
   "execution_count": 10,
   "metadata": {
    "collapsed": false
   },
   "outputs": [],
   "source": [
    "raw_response = r.text.split('\\n')"
   ]
  },
  {
   "cell_type": "code",
   "execution_count": 36,
   "metadata": {
    "collapsed": false
   },
   "outputs": [],
   "source": [
    "# Fix the text and ignore the comments lines\n",
    "fixed_response = []\n",
    "for line in raw_response:\n",
    "    li=line.strip()\n",
    "    if not li.startswith(\"#\"):\n",
    "        fixed_response.append(li.rstrip())"
   ]
  },
  {
   "cell_type": "code",
   "execution_count": 42,
   "metadata": {
    "collapsed": false
   },
   "outputs": [],
   "source": [
    "# array to multiline string to make a valid CSV\n",
    "f2 = \"\"\"\n",
    "{}\n",
    "\"\"\".format(\"\\n\".join(fixed_response))"
   ]
  },
  {
   "cell_type": "code",
   "execution_count": 49,
   "metadata": {
    "collapsed": false
   },
   "outputs": [],
   "source": [
    "# create a StringIO object to be able to read_csv into dataframe\n",
    "df = pd.read_csv(StringIO(f2), header=None, names=['domain', 'comment', 'date', 'source'])"
   ]
  },
  {
   "cell_type": "markdown",
   "metadata": {},
   "source": [
    "## Function to enrich feed data"
   ]
  },
  {
   "cell_type": "code",
   "execution_count": 107,
   "metadata": {
    "collapsed": false
   },
   "outputs": [],
   "source": [
    "def d(d):\n",
    "    r = requests.get('http://ip-api.com/json/%s' %d).json()\n",
    "    if 'countryCode' in r:\n",
    "        c = r['countryCode']\n",
    "    else:\n",
    "        c = None    \n",
    "    if 'as' in r:\n",
    "        a = r['as']\n",
    "    else:\n",
    "        a = None\n",
    "    time.sleep(1) # 3 second delay due to API limitations\n",
    "    return (c, a)"
   ]
  },
  {
   "cell_type": "code",
   "execution_count": 105,
   "metadata": {
    "collapsed": false
   },
   "outputs": [],
   "source": [
    "df['ip_api'] = df['domain'].apply(lambda x: d(x))"
   ]
  },
  {
   "cell_type": "code",
   "execution_count": 110,
   "metadata": {
    "collapsed": false
   },
   "outputs": [],
   "source": [
    "df['cc'] = df['ip_api'].apply(lambda x: x[0])\n",
    "df['as'] = df['ip_api'].apply(lambda x: x[1])"
   ]
  },
  {
   "cell_type": "markdown",
   "metadata": {},
   "source": [
    "## Group By Country Code"
   ]
  },
  {
   "cell_type": "code",
   "execution_count": 111,
   "metadata": {
    "collapsed": false
   },
   "outputs": [
    {
     "name": "stdout",
     "output_type": "stream",
     "text": [
      "cc\n",
      "US    132\n",
      "DE     17\n",
      "VG      6\n",
      "RU      5\n",
      "FR      2\n",
      "CN      2\n",
      "AU      2\n",
      "UA      1\n",
      "TW      1\n",
      "KR      1\n",
      "CZ      1\n",
      "CH      1\n",
      "BR      1\n",
      "Name: domain, dtype: int64\n"
     ]
    },
    {
     "data": {
      "text/plain": [
       "<matplotlib.axes._subplots.AxesSubplot at 0x11ce97e10>"
      ]
     },
     "execution_count": 111,
     "metadata": {},
     "output_type": "execute_result"
    },
    {
     "data": {
      "image/png": "[encoded data removed]",
      "text/plain": [
       "<matplotlib.figure.Figure at 0x11ce97910>"
      ]
     },
     "metadata": {},
     "output_type": "display_data"
    }
   ],
   "source": [
    "gb1 = df.groupby('cc')['domain'].count().sort_values(ascending=False)\n",
    "print gb1\n",
    "gb1.plot.bar()"
   ]
  },
  {
   "cell_type": "markdown",
   "metadata": {},
   "source": [
    "## Group By AS Number/Name (Top 10)"
   ]
  },
  {
   "cell_type": "code",
   "execution_count": 115,
   "metadata": {
    "collapsed": false
   },
   "outputs": [
    {
     "name": "stdout",
     "output_type": "stream",
     "text": [
      "as\n",
      "AS21740 eNom, Incorporated                   59\n",
      "AS40034 Confluence Networks Inc              17\n",
      "AS2637 Georgia Institute of Technology       11\n",
      "AS22612 Namecheap, Inc.                      11\n",
      "AS394695 PDR                                 10\n",
      "AS7922 Comcast Cable Communications, Inc.     8\n",
      "AS28753 LEASEWEB-DE                           6\n",
      "AS61969 TEAMINTERNET-AS                       4\n",
      "AS197695 AS-REGRU                             3\n",
      "AS14618 Amazon.com, Inc.                      3\n",
      "Name: domain, dtype: int64\n"
     ]
    },
    {
     "data": {
      "text/plain": [
       "<matplotlib.axes._subplots.AxesSubplot at 0x11d3e6ed0>"
      ]
     },
     "execution_count": 115,
     "metadata": {},
     "output_type": "execute_result"
    },
    {
     "data": {
      "image/png": "[encoded data removed]",
      "text/plain": [
       "<matplotlib.figure.Figure at 0x11d510850>"
      ]
     },
     "metadata": {},
     "output_type": "display_data"
    }
   ],
   "source": [
    "gb2 = df.groupby('as')['domain'].count().sort_values(ascending=False).head(10)\n",
    "print gb2\n",
    "gb2.plot.bar()"
   ]
  },
  {
   "cell_type": "code",
   "execution_count": null,
   "metadata": {
    "collapsed": true
   },
   "outputs": [],
   "source": []
  }
 ],
 "metadata": {
  "kernelspec": {
   "display_name": "Python 2",
   "language": "python",
   "name": "python2"
  },
  "language_info": {
   "codemirror_mode": {
    "name": "ipython",
    "version": 2
   },
   "file_extension": ".py",
   "mimetype": "text/x-python",
   "name": "python",
   "nbconvert_exporter": "python",
   "pygments_lexer": "ipython2",
   "version": "2.7.11"
  }
 },
 "nbformat": 4,
 "nbformat_minor": 0
}
